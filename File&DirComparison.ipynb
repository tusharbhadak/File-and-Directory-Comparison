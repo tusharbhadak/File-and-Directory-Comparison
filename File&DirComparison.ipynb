{
  "nbformat": 4,
  "nbformat_minor": 0,
  "metadata": {
    "colab": {
      "name": "File&DirComparison.ipynb",
      "provenance": [],
      "collapsed_sections": [],
      "authorship_tag": "ABX9TyPsiZinvkY4JEZXSYVZO/Fd",
      "include_colab_link": true
    },
    "kernelspec": {
      "name": "python3",
      "display_name": "Python 3"
    }
  },
  "cells": [
    {
      "cell_type": "markdown",
      "metadata": {
        "id": "view-in-github",
        "colab_type": "text"
      },
      "source": [
        "<a href=\"https://colab.research.google.com/github/tusharbhadak/File-and-Directory-Comparison/blob/main/File%26DirComparison.ipynb\" target=\"_parent\"><img src=\"https://colab.research.google.com/assets/colab-badge.svg\" alt=\"Open In Colab\"/></a>"
      ]
    },
    {
      "cell_type": "code",
      "metadata": {
        "id": "7SO-HbBxsIHX",
        "colab": {
          "base_uri": "https://localhost:8080/",
          "height": 170
        },
        "outputId": "c37bac48-a5a4-45ab-d042-b0042b4d7c79"
      },
      "source": [
        "#Comparing Files from ddifferent directories\n",
        "import filecmp \n",
        "dir1 = \"/home / User / Downloads\"\n",
        "dir2 = \"/home / User / Desktop\"\n",
        " \n",
        "common = [\"DJ2001802.csv\"] \n",
        "\n",
        "# Shallow compare the files \n",
        "# common in both directories \n",
        "match, mismatch, errors = filecmp.cmpfiles(dir1, dir2, common) \n",
        "\n",
        "# Print the result of \n",
        "# shallow comparison \n",
        "print(\"Shallow comparison:\") \n",
        "print(\"Match :\", match) \n",
        "print(\"Mismatch :\", mismatch) \n",
        "print(\"Errors :\", errors, \"\\n\") \n",
        "\n",
        "\n",
        "# Compare the \n",
        "# contents of both files \n",
        "# (i.e deep comparison) \n",
        "match, mismatch, errors = filecmp.cmpfiles(dir1, dir2, common, \n",
        "\t\t\t\t\t\t\t\t\t\t\tshallow = False) \n",
        "\n",
        "# Print the result of \n",
        "# deep comparison \n",
        "print(\"Deep comparison:\") \n",
        "print(\"Match :\", match) \n",
        "print(\"Mismatch :\", mismatch) \n",
        "print(\"Errors :\", errors) \n",
        "\n"
      ],
      "execution_count": null,
      "outputs": [
        {
          "output_type": "stream",
          "text": [
            "Shallow comparison:\n",
            "Match : []\n",
            "Mismatch : []\n",
            "Errors : ['DJ2001802.csv'] \n",
            "\n",
            "Deep comparison:\n",
            "Match : []\n",
            "Mismatch : []\n",
            "Errors : ['DJ2001802.csv']\n"
          ],
          "name": "stdout"
        }
      ]
    }
  ]
}